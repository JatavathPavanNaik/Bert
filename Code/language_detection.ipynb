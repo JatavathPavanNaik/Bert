{
 "cells": [
  {
   "cell_type": "code",
   "execution_count": null,
   "metadata": {},
   "outputs": [],
   "source": [
    "from tokenizers import BertWordPieceTokenizer"
   ]
  },
  {
   "cell_type": "code",
   "execution_count": null,
   "metadata": {},
   "outputs": [],
   "source": [
    "tokenizer=BertWordPieceTokenizer(\n",
    "    clean_text=True,\n",
    "    lowercase=True,\n",
    ")"
   ]
  },
  {
   "cell_type": "code",
   "execution_count": null,
   "metadata": {},
   "outputs": [],
   "source": [
    "telugu_letters = ['అ', 'ఆ', 'ఇ', 'ఈ', 'ఉ', 'ఊ', 'ఋ', 'ౠ', 'ఎ', 'ఏ', 'ఐ', 'ఒ', 'ఓ', 'ఔ',\n",
    "    'అం', 'అః', 'క', 'ఖ', 'గ', 'ఘ', 'ఙ', 'చ', 'ఛ', 'జ', 'ఝ', 'ఞ', 'ట', 'ఠ',\n",
    "    'డ', 'ఢ', 'ణ', 'త', 'థ', 'ద', 'ధ', 'న', 'ప', 'ఫ', 'బ', 'భ', 'మ', 'య', 'ర',\n",
    "    'ల', 'వ', 'శ', 'ష', 'స', 'హ', 'ళ', 'క్ష', 'ఱ','ం', 'ః','ా', 'ి', 'ీ', 'ు', 'ూ', 'ృ', 'ౄ', 'ె', 'ే', 'ై', 'ొ', 'ో', 'ౌ',\n",
    "    '్']\n",
    "\n",
    "hindi_letters = [\n",
    "    'अ', 'आ', 'इ', 'ई', 'उ', 'ऊ', 'ऋ', 'ॠ', 'ए', 'ऐ', 'ओ', 'औ',\n",
    "    'अं', 'अः', 'क', 'ख', 'ग', 'घ', 'ङ', 'च', 'छ', 'ज', 'झ', 'ञ', 'ट', 'ठ',\n",
    "    'ड', 'ढ', 'ण', 'त', 'थ', 'द', 'ध', 'न', 'प', 'फ', 'ब', 'भ', 'म', 'य', 'र',\n",
    "    'ल', 'व', 'श', 'ष', 'स', 'ह', 'ळ', 'क्ष', 'ऱ','ा', 'ि', 'ी', 'ु', 'ू', 'ृ', 'ॄ', 'ॅ', 'ॆ', 'ै', 'ो', 'ौ','्','ं','ः',\n",
    "]\n",
    "\n",
    "tamil_letters = [\n",
    "    'அ', 'ஆ', 'இ', 'ஈ', 'உ', 'ஊ', 'எ', 'ஏ', 'ஐ', 'ஒ', 'ஓ', 'ஔ',\n",
    "    'ஃ', 'க', 'ங', 'ச', 'ஞ', 'ட', 'ண', 'த', 'ந', 'ன', 'ப', 'ம', 'ய', 'ர',\n",
    "    'ற', 'ல', 'ள', 'ழ', 'வ', 'ஷ', 'ஸ', 'ஹ', 'ா', 'ி', 'ீ', 'ு', 'ூ', 'ெ', 'ே', 'ை', 'ொ', 'ோ', 'ௌ','்','்க', '்ச', '்த', '்ப', '்ய', '்ர', '்ல', '்வ', '்ள',\n",
    "]\n",
    "\n",
    "malayalam_letters = [\n",
    "    'അ', 'ആ', 'ഇ', 'ഈ', 'ഉ', 'ഊ', 'ഋ', 'ൠ', 'എ', 'ഏ', 'ഐ', 'ഒ', 'ഓ', 'ഔ',\n",
    "    'അം', 'അഃ', 'ക', 'ഖ', 'ഗ', 'ഘ', 'ങ', 'ച', 'ഛ', 'ജ', 'ഝ', 'ഞ', 'ട', 'ഠ',\n",
    "    'ഡ', 'ഢ', 'ണ', 'ത', 'ഥ', 'ദ', 'ധ', 'ന', 'പ', 'ഫ', 'ബ', 'ഭ', 'മ', 'യ', 'ര',\n",
    "    'ല', 'വ', 'ശ', 'ഷ', 'സ', 'ഹ', 'ള', 'ക്ഷ','ാ', 'ി', 'ീ', 'ു', 'ൂ', 'െ', 'േ', 'ൈ', 'ൊ', 'ോ', 'ൌ','്','്ക', '്ഖ', '്ഗ', '്ഘ', '്ങ', '്ച', '്ഛ', '്ജ', '്ഝ', '്ഞ', '്ട', '്ഠ', '്ഡ',\n",
    "    '്ഢ', '്ണ', '്ത', '്ഥ', '്ദ', '്ധ', '്ന', '്പ', '്ഫ', '്ബ', '്ഭ', '്മ', '്യ', '്ര','്ല', '്വ', '്ശ', '്ഷ', '്സ', '്ഹ', '്ള', '്ക്ഷ',\n",
    "]\n",
    "\n",
    "bengali_letters = [\n",
    "    'অ', 'আ', 'ই', 'ঈ', 'উ', 'ঊ', 'ঋ', 'ৠ', 'এ', 'ঐ', 'ও', 'ঔ',\n",
    "    'অং', 'অঃ', 'ক', 'খ', 'গ', 'ঘ', 'ঙ', 'চ', 'ছ', 'জ', 'ঝ', 'ঞ', 'ট', 'ঠ',\n",
    "    'ড', 'ঢ', 'ণ', 'ত', 'থ', 'দ', 'ধ', 'ন', 'প', 'ফ', 'ব', 'ভ', 'ম', 'য', 'র',\n",
    "    'ল', 'শ', 'ষ', 'স', 'হ', 'ড়', 'ঢ়', 'য়','া', 'ি', 'ী', 'ু', 'ূ', 'ে', 'ৈ', 'ো', 'ৌ','্','ং', 'ঃ', 'ঁ', '়', 'ঽ',\n",
    "]\n",
    "\n",
    "english_lowercase_uppercase_letters = ['a', 'b', 'c', 'd', 'e', 'f', 'g', 'h', 'i', 'j', 'k', 'l', 'm', 'n', 'o', 'p', 'q', 'r', 's', 't', 'u', 'v', 'w', 'x', 'y', 'z','A', 'B', 'C', 'D', 'E', 'F', 'G', 'H', 'I', 'J', 'K', 'L', 'M', 'N', 'O', 'P', 'Q', 'R', 'S', 'T', 'U', 'V', 'W', 'X', 'Y', 'Z']\n",
    "\n"
   ]
  },
  {
   "cell_type": "code",
   "execution_count": null,
   "metadata": {},
   "outputs": [],
   "source": [
    "malyalam_characters=' '.join(malayalam_letters)\n",
    "Telugu_characters=' '.join(telugu_letters)\n",
    "Tamil_characters=' '.join(tamil_letters)\n",
    "Hindi_characters=' '.join(hindi_letters)\n",
    "Bangal_characters=' '.join(bengali_letters)\n",
    "English_characters=' '.join(english_lowercase_uppercase_letters)"
   ]
  },
  {
   "cell_type": "code",
   "execution_count": null,
   "metadata": {},
   "outputs": [],
   "source": [
    "# Create a text file with the list of characters\n",
    "with open('/Users/jatavathpavannaik/Documents/python/Bert/text_file/English_characters.txt', 'w', encoding='utf-8') as file:\n",
    "    file.write(English_characters)"
   ]
  },
  {
   "cell_type": "code",
   "execution_count": null,
   "metadata": {},
   "outputs": [],
   "source": [
    "import glob\n",
    "paths=glob.glob(\"/Users/jatavathpavannaik/Documents/python/Bert/text_file/*.txt\")"
   ]
  },
  {
   "cell_type": "code",
   "execution_count": null,
   "metadata": {},
   "outputs": [],
   "source": [
    "# Train the tokenizer using the file\n",
    "tokenizer.train(\n",
    "    files=paths,\n",
    "    vocab_size=20000,\n",
    "    min_frequency=1,\n",
    "    special_tokens=['[PAD]', '[UNK]', '[CLS]', '[SEP]', '[MASK]'],\n",
    "    limit_alphabet=500,\n",
    "    wordpieces_prefix='##'\n",
    ")"
   ]
  },
  {
   "cell_type": "code",
   "execution_count": null,
   "metadata": {},
   "outputs": [],
   "source": [
    "output=tokenizer.encode(\"सార్ lets চలో for a walk in the park பார்க் and enjoy some fresh air\")"
   ]
  },
  {
   "cell_type": "code",
   "execution_count": null,
   "metadata": {},
   "outputs": [],
   "source": [
    "output.tokens"
   ]
  },
  {
   "cell_type": "code",
   "execution_count": null,
   "metadata": {},
   "outputs": [],
   "source": [
    "list=output.ids"
   ]
  },
  {
   "cell_type": "code",
   "execution_count": null,
   "metadata": {},
   "outputs": [],
   "source": [
    "vocab_dict = tokenizer.get_vocab()\n",
    "\n",
    "# Sort the vocabulary dictionary by index\n",
    "sorted_vocab = sorted(vocab_dict.items(), key=lambda x: x[1])\n",
    "\n",
    "# Specify the output file path\n",
    "output_file_path = 'characters.txt'\n",
    "\n",
    "# Write the sorted vocabulary to the text file\n",
    "with open(output_file_path, 'w', encoding='utf-8') as file:\n",
    "    for token, index in sorted_vocab:\n",
    "        file.write(f'{token}\\t{index}\\n')\n",
    "\n",
    "print(f'Vocabulary has been saved to {output_file_path}')\n"
   ]
  },
  {
   "cell_type": "code",
   "execution_count": null,
   "metadata": {},
   "outputs": [],
   "source": [
    "def categorize_language(value):\n",
    "    if 0 <= value <= 67:\n",
    "        return 'Telugu'\n",
    "    elif 68 <= value <= 132:\n",
    "        return 'Hindi'\n",
    "    elif 133 <= value <= 187:\n",
    "        return 'Tamil'\n",
    "    elif 188 <= value <= 285:\n",
    "        return 'Malayalam'\n",
    "    elif 286 <= value <= 349:\n",
    "        return 'Bangla'\n",
    "    elif 350 <= value <= 402:\n",
    "        return 'English'\n",
    "    else:\n",
    "        return 'Unknown'\n"
   ]
  },
  {
   "cell_type": "code",
   "execution_count": null,
   "metadata": {},
   "outputs": [],
   "source": [
    "list=[357, 354, 361, 361, 364, 350, 361, 361]"
   ]
  },
  {
   "cell_type": "code",
   "execution_count": null,
   "metadata": {},
   "outputs": [],
   "source": [
    "language_category=[]\n",
    "for value in list:\n",
    "    language_category.append(categorize_language(value))"
   ]
  },
  {
   "cell_type": "code",
   "execution_count": null,
   "metadata": {},
   "outputs": [],
   "source": [
    "from collections import Counter\n",
    "\n",
    "def calculate_probabilities(category_list):\n",
    "    total_categories = len(category_list)\n",
    "    category_counts = Counter(category_list)\n",
    "    \n",
    "    probabilities = {category: count / total_categories for category, count in category_counts.items()}\n",
    "    \n",
    "    return probabilities\n"
   ]
  },
  {
   "cell_type": "code",
   "execution_count": null,
   "metadata": {},
   "outputs": [],
   "source": [
    "\n",
    "probabilities = calculate_probabilities(language_category)\n",
    "for category, probability in probabilities.items():\n",
    "    print(f'{category}: {probability:.2%}')"
   ]
  },
  {
   "cell_type": "code",
   "execution_count": 173,
   "metadata": {},
   "outputs": [
    {
     "name": "stdout",
     "output_type": "stream",
     "text": [
      "English: 100.00%\n"
     ]
    }
   ],
   "source": [
    "output=tokenizer.encode(\"me acha ladaka hu\")\n",
    "list=output.ids\n",
    "language_category=[]\n",
    "for value in list:\n",
    "    language_category.append(categorize_language(value))\n",
    "probabilities = calculate_probabilities(language_category)\n",
    "for category, probability in probabilities.items():\n",
    "    print(f'{category}: {probability:.2%}')"
   ]
  },
  {
   "cell_type": "code",
   "execution_count": null,
   "metadata": {},
   "outputs": [],
   "source": []
  }
 ],
 "metadata": {
  "kernelspec": {
   "display_name": "Bert",
   "language": "python",
   "name": "python3"
  },
  "language_info": {
   "codemirror_mode": {
    "name": "ipython",
    "version": 3
   },
   "file_extension": ".py",
   "mimetype": "text/x-python",
   "name": "python",
   "nbconvert_exporter": "python",
   "pygments_lexer": "ipython3",
   "version": "3.11.5"
  },
  "orig_nbformat": 4
 },
 "nbformat": 4,
 "nbformat_minor": 2
}
